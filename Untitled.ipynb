{
 "cells": [
  {
   "cell_type": "code",
   "execution_count": 11,
   "metadata": {},
   "outputs": [
    {
     "name": "stdout",
     "output_type": "stream",
     "text": [
      "C:\\Users\\Sun\\Documents\\GitHub\\tweet_irony_detection\\stanford-corenlp-full-2018-10-05\n"
     ]
    }
   ],
   "source": [
    "cd stanford-corenlp-full-2018-10-05"
   ]
  },
  {
   "cell_type": "code",
   "execution_count": 12,
   "metadata": {},
   "outputs": [
    {
     "name": "stdout",
     "output_type": "stream",
     "text": [
      "^C\n"
     ]
    }
   ],
   "source": [
    "!java -mx4g -cp \"*\" edu.stanford.nlp.pipeline.StanfordCoreNLPServer -port 9001 -timeout 10000"
   ]
  },
  {
   "cell_type": "code",
   "execution_count": 14,
   "metadata": {},
   "outputs": [
    {
     "name": "stdout",
     "output_type": "stream",
     "text": [
      "C:\\Users\\Sun\\Documents\\GitHub\\tweet_irony_detection\n"
     ]
    }
   ],
   "source": [
    "cd .."
   ]
  },
  {
   "cell_type": "code",
   "execution_count": 19,
   "metadata": {},
   "outputs": [
    {
     "name": "stdout",
     "output_type": "stream",
     "text": [
      "For Task A training  Counter({0: 1923, 1: 1911})\n",
      "For Task B training  Counter({0: 1923, 1: 1390, 2: 316, 3: 205})\n",
      "For Task A testing  Counter({0: 473, 1: 311})\n",
      "For Task B testing  Counter({0: 473, 1: 164, 2: 85, 3: 62})\n",
      "1. Ngrams generated\n",
      "Size of unigram=3834 x 2262\n",
      "Size of bigram=3834 x 2909\n",
      "2. POS Tagging done\n",
      "Len of pos =3834 x 3\n",
      "3. Pronounciation done\n",
      "3834\n",
      "4. CAPS done\n",
      "3834\n",
      "5.Sentence Sentiment done\n",
      "3834\n",
      "6. Words sentiment done\n",
      "3834\n",
      "7.After Brown\n",
      "Size of brown unigram=3834 x 2260\n",
      "Size of brown bigram=3834 x 2260\n",
      "3834 9791\n",
      "1. Ngrams generated\n",
      "Size of unigram=784 x 2262\n",
      "Size of bigram=784 x 2909\n",
      "2. POS Tagging done\n",
      "Len of pos =784 x 3\n",
      "3. Pronounciation done\n",
      "784\n",
      "4. CAPS done\n",
      "784\n",
      "5.Sentence Sentiment done\n",
      "784\n",
      "6. Words sentiment done\n",
      "784\n",
      "7.After Brown\n",
      "Size of brown unigram=784 x 2260\n",
      "Size of brown bigram=784 x 2260\n",
      "784 9791\n",
      "1. Ngrams generated\n",
      "Size of unigram=3834 x 2262\n",
      "Size of bigram=3834 x 2909\n",
      "2. POS Tagging done\n",
      "Len of pos =3834 x 3\n",
      "3. Pronounciation done\n",
      "3834\n",
      "4. CAPS done\n",
      "3834\n",
      "5.Sentence Sentiment done\n",
      "3834\n",
      "6. Words sentiment done\n",
      "3834\n",
      "7.After Brown\n",
      "Size of brown unigram=3834 x 2260\n",
      "Size of brown bigram=3834 x 2260\n",
      "3834 9791\n",
      "1. Ngrams generated\n",
      "Size of unigram=784 x 2262\n",
      "Size of bigram=784 x 2909\n",
      "2. POS Tagging done\n",
      "Len of pos =784 x 3\n",
      "3. Pronounciation done\n",
      "784\n",
      "4. CAPS done\n",
      "784\n",
      "5.Sentence Sentiment done\n",
      "784\n",
      "6. Words sentiment done\n",
      "784\n",
      "7.After Brown\n",
      "Size of brown unigram=784 x 2260\n",
      "Size of brown bigram=784 x 2260\n",
      "784 9791\n"
     ]
    },
    {
     "name": "stderr",
     "output_type": "stream",
     "text": [
      "[nltk_data] Downloading package averaged_perceptron_tagger to\n",
      "[nltk_data]     C:\\Users\\Sun\\AppData\\Roaming\\nltk_data...\n",
      "[nltk_data]   Package averaged_perceptron_tagger is already up-to-\n",
      "[nltk_data]       date!\n",
      "[nltk_data] Downloading package punkt to\n",
      "[nltk_data]     C:\\Users\\Sun\\AppData\\Roaming\\nltk_data...\n",
      "[nltk_data]   Package punkt is already up-to-date!\n",
      "[nltk_data] Downloading package tagsets to\n",
      "[nltk_data]     C:\\Users\\Sun\\AppData\\Roaming\\nltk_data...\n",
      "[nltk_data]   Package tagsets is already up-to-date!\n"
     ]
    }
   ],
   "source": [
    "!python -m baseline.features"
   ]
  },
  {
   "cell_type": "code",
   "execution_count": null,
   "metadata": {},
   "outputs": [],
   "source": []
  }
 ],
 "metadata": {
  "kernelspec": {
   "display_name": "Python 3",
   "language": "python",
   "name": "python3"
  },
  "language_info": {
   "codemirror_mode": {
    "name": "ipython",
    "version": 3
   },
   "file_extension": ".py",
   "mimetype": "text/x-python",
   "name": "python",
   "nbconvert_exporter": "python",
   "pygments_lexer": "ipython3",
   "version": "3.6.5"
  }
 },
 "nbformat": 4,
 "nbformat_minor": 4
}
